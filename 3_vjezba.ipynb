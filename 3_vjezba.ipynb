{
 "cells": [
  {
   "cell_type": "code",
   "execution_count": 1,
   "metadata": {},
   "outputs": [],
   "source": [
    "import pandas as pd\n",
    "import matplotlib.pyplot as plt\n",
    "import numpy as np\n",
    "from matplotlib.ticker import (MultipleLocator, FormatStrFormatter, AutoMinorLocator)\n",
    "from scipy.optimize import curve_fit"
   ]
  },
  {
   "cell_type": "code",
   "execution_count": 17,
   "metadata": {
    "scrolled": false
   },
   "outputs": [
    {
     "data": {
      "text/html": [
       "<div>\n",
       "<style scoped>\n",
       "    .dataframe tbody tr th:only-of-type {\n",
       "        vertical-align: middle;\n",
       "    }\n",
       "\n",
       "    .dataframe tbody tr th {\n",
       "        vertical-align: top;\n",
       "    }\n",
       "\n",
       "    .dataframe thead th {\n",
       "        text-align: right;\n",
       "    }\n",
       "</style>\n",
       "<table border=\"1\" class=\"dataframe\">\n",
       "  <thead>\n",
       "    <tr style=\"text-align: right;\">\n",
       "      <th></th>\n",
       "      <th>a)</th>\n",
       "      <th>ID / mA</th>\n",
       "      <th>+/-</th>\n",
       "      <th>Ii / mA</th>\n",
       "      <th>+/-.1</th>\n",
       "      <th>Unnamed: 5</th>\n",
       "      <th>b)</th>\n",
       "      <th>ID / mA.1</th>\n",
       "      <th>+/-.2</th>\n",
       "      <th>Ii / mA.1</th>\n",
       "      <th>+/-.3</th>\n",
       "    </tr>\n",
       "  </thead>\n",
       "  <tbody>\n",
       "    <tr>\n",
       "      <th>0</th>\n",
       "      <td>ID = 3 +/- 0.5 mA</td>\n",
       "      <td>3</td>\n",
       "      <td>0.5</td>\n",
       "      <td>3.5</td>\n",
       "      <td>0.5</td>\n",
       "      <td>NaN</td>\n",
       "      <td>C = 204 μF</td>\n",
       "      <td>10</td>\n",
       "      <td>0.5</td>\n",
       "      <td>10.5</td>\n",
       "      <td>0.5</td>\n",
       "    </tr>\n",
       "    <tr>\n",
       "      <th>1</th>\n",
       "      <td>NaN</td>\n",
       "      <td>5</td>\n",
       "      <td>0.5</td>\n",
       "      <td>5.0</td>\n",
       "      <td>0.5</td>\n",
       "      <td>NaN</td>\n",
       "      <td>NaN</td>\n",
       "      <td>12</td>\n",
       "      <td>0.5</td>\n",
       "      <td>14.0</td>\n",
       "      <td>0.5</td>\n",
       "    </tr>\n",
       "    <tr>\n",
       "      <th>2</th>\n",
       "      <td>NaN</td>\n",
       "      <td>10</td>\n",
       "      <td>0.5</td>\n",
       "      <td>10.0</td>\n",
       "      <td>0.5</td>\n",
       "      <td>NaN</td>\n",
       "      <td>NaN</td>\n",
       "      <td>14</td>\n",
       "      <td>0.5</td>\n",
       "      <td>19.0</td>\n",
       "      <td>0.5</td>\n",
       "    </tr>\n",
       "    <tr>\n",
       "      <th>3</th>\n",
       "      <td>NaN</td>\n",
       "      <td>15</td>\n",
       "      <td>0.5</td>\n",
       "      <td>15.0</td>\n",
       "      <td>0.5</td>\n",
       "      <td>NaN</td>\n",
       "      <td>NaN</td>\n",
       "      <td>16</td>\n",
       "      <td>0.5</td>\n",
       "      <td>28.0</td>\n",
       "      <td>0.5</td>\n",
       "    </tr>\n",
       "    <tr>\n",
       "      <th>4</th>\n",
       "      <td>NaN</td>\n",
       "      <td>20</td>\n",
       "      <td>0.5</td>\n",
       "      <td>20.0</td>\n",
       "      <td>0.5</td>\n",
       "      <td>NaN</td>\n",
       "      <td>NaN</td>\n",
       "      <td>18</td>\n",
       "      <td>0.5</td>\n",
       "      <td>40.0</td>\n",
       "      <td>1.0</td>\n",
       "    </tr>\n",
       "  </tbody>\n",
       "</table>\n",
       "</div>"
      ],
      "text/plain": [
       "                  a)  ID / mA  +/-  Ii / mA  +/-.1  Unnamed: 5          b)  \\\n",
       "0  ID = 3 +/- 0.5 mA        3  0.5      3.5    0.5         NaN  C = 204 μF   \n",
       "1                NaN        5  0.5      5.0    0.5         NaN         NaN   \n",
       "2                NaN       10  0.5     10.0    0.5         NaN         NaN   \n",
       "3                NaN       15  0.5     15.0    0.5         NaN         NaN   \n",
       "4                NaN       20  0.5     20.0    0.5         NaN         NaN   \n",
       "\n",
       "   ID / mA.1  +/-.2  Ii / mA.1  +/-.3  \n",
       "0         10    0.5       10.5    0.5  \n",
       "1         12    0.5       14.0    0.5  \n",
       "2         14    0.5       19.0    0.5  \n",
       "3         16    0.5       28.0    0.5  \n",
       "4         18    0.5       40.0    1.0  "
      ]
     },
     "execution_count": 17,
     "metadata": {},
     "output_type": "execute_result"
    }
   ],
   "source": [
    "poluvalni2 = pd.read_excel(r'3. ISPRAVLJAČKI SKLOPOVI.xlsx', sheet_name='2_poluvalni')\n",
    "poluvalni2"
   ]
  },
  {
   "cell_type": "code",
   "execution_count": 18,
   "metadata": {
    "scrolled": true
   },
   "outputs": [
    {
     "data": {
      "image/png": "[encoded data removed]",
      "text/plain": [
       "<Figure size 720x360 with 1 Axes>"
      ]
     },
     "metadata": {
      "needs_background": "light"
     },
     "output_type": "display_data"
    }
   ],
   "source": [
    "x = list(poluvalni2['ID / mA'])\n",
    "y = list(poluvalni2['Ii / mA'])\n",
    "pogreske1 = list(poluvalni2['+/-'])\n",
    "pogreske2 = list(poluvalni2['+/-.1'])\n",
    "\n",
    "x2 = list(poluvalni2['ID / mA.1'])\n",
    "y2 = list(poluvalni2['Ii / mA.1'])\n",
    "pogreske21 = list(poluvalni2['+/-.2'])\n",
    "pogreske22 = list(poluvalni2['+/-.3'])\n",
    "\n",
    "\n",
    "fig1, ax = plt.subplots(figsize=(10,5))\n",
    "ax.set_title('Ovisnost izlazne struje $I_{i}$ o struji kroz diode $I_{D}$', fontsize = 18)\n",
    "ax.set_xlabel('$ I_{D} \\mathrm{/ mA} $', fontsize = 16)\n",
    "ax.set_ylabel('$ I_{i} \\mathrm{/ mA} $', fontsize = 16)\n",
    "ax.errorbar(x,y, xerr=pogreske1, yerr = pogreske2, fmt='o', label = '$ I_{i} $ bez kondenzatora')\n",
    "ax.errorbar(x2,y2, xerr=pogreske21, yerr = pogreske22, fmt='o', label = '$ I_{i} $ sa kondenzatorom')\n",
    "ax.legend()\n",
    "ax.xaxis.set_minor_locator(MultipleLocator(0.5))\n",
    "ax.yaxis.set_minor_locator(MultipleLocator(1))\n",
    "ax.grid()"
   ]
  },
  {
   "cell_type": "code",
   "execution_count": 4,
   "metadata": {},
   "outputs": [
    {
     "data": {
      "text/html": [
       "<div>\n",
       "<style scoped>\n",
       "    .dataframe tbody tr th:only-of-type {\n",
       "        vertical-align: middle;\n",
       "    }\n",
       "\n",
       "    .dataframe tbody tr th {\n",
       "        vertical-align: top;\n",
       "    }\n",
       "\n",
       "    .dataframe thead th {\n",
       "        text-align: right;\n",
       "    }\n",
       "</style>\n",
       "<table border=\"1\" class=\"dataframe\">\n",
       "  <thead>\n",
       "    <tr style=\"text-align: right;\">\n",
       "      <th></th>\n",
       "      <th>Unnamed: 0</th>\n",
       "      <th>Ii / mA</th>\n",
       "      <th>+/-</th>\n",
       "      <th>Uw / V</th>\n",
       "      <th>+/-.1</th>\n",
       "      <th>tiz / ms</th>\n",
       "      <th>+/-.2</th>\n",
       "      <th>Uwt / V</th>\n",
       "      <th>+/-.3</th>\n",
       "      <th>T / %</th>\n",
       "    </tr>\n",
       "  </thead>\n",
       "  <tbody>\n",
       "    <tr>\n",
       "      <th>0</th>\n",
       "      <td>NaN</td>\n",
       "      <td>10</td>\n",
       "      <td>0.5</td>\n",
       "      <td>0.40</td>\n",
       "      <td>0.02</td>\n",
       "      <td>17.2</td>\n",
       "      <td>0.2</td>\n",
       "      <td>0.389140</td>\n",
       "      <td>0.019976</td>\n",
       "      <td>97.209302</td>\n",
       "    </tr>\n",
       "    <tr>\n",
       "      <th>1</th>\n",
       "      <td>C = 442 μF</td>\n",
       "      <td>20</td>\n",
       "      <td>0.5</td>\n",
       "      <td>0.80</td>\n",
       "      <td>0.05</td>\n",
       "      <td>17.2</td>\n",
       "      <td>0.2</td>\n",
       "      <td>0.778281</td>\n",
       "      <td>0.021459</td>\n",
       "      <td>97.209302</td>\n",
       "    </tr>\n",
       "    <tr>\n",
       "      <th>2</th>\n",
       "      <td>NaN</td>\n",
       "      <td>30</td>\n",
       "      <td>0.5</td>\n",
       "      <td>1.25</td>\n",
       "      <td>0.05</td>\n",
       "      <td>17.0</td>\n",
       "      <td>0.2</td>\n",
       "      <td>1.153846</td>\n",
       "      <td>0.023539</td>\n",
       "      <td>91.666667</td>\n",
       "    </tr>\n",
       "    <tr>\n",
       "      <th>3</th>\n",
       "      <td>NaN</td>\n",
       "      <td>40</td>\n",
       "      <td>0.5</td>\n",
       "      <td>1.65</td>\n",
       "      <td>0.05</td>\n",
       "      <td>17.0</td>\n",
       "      <td>0.2</td>\n",
       "      <td>1.538462</td>\n",
       "      <td>0.026409</td>\n",
       "      <td>92.750000</td>\n",
       "    </tr>\n",
       "    <tr>\n",
       "      <th>4</th>\n",
       "      <td>NaN</td>\n",
       "      <td>50</td>\n",
       "      <td>0.5</td>\n",
       "      <td>2.00</td>\n",
       "      <td>0.10</td>\n",
       "      <td>16.8</td>\n",
       "      <td>0.2</td>\n",
       "      <td>1.900452</td>\n",
       "      <td>0.029547</td>\n",
       "      <td>94.761905</td>\n",
       "    </tr>\n",
       "  </tbody>\n",
       "</table>\n",
       "</div>"
      ],
      "text/plain": [
       "   Unnamed: 0  Ii / mA  +/-  Uw / V  +/-.1  tiz / ms  +/-.2   Uwt / V  \\\n",
       "0         NaN       10  0.5    0.40   0.02      17.2    0.2  0.389140   \n",
       "1  C = 442 μF       20  0.5    0.80   0.05      17.2    0.2  0.778281   \n",
       "2         NaN       30  0.5    1.25   0.05      17.0    0.2  1.153846   \n",
       "3         NaN       40  0.5    1.65   0.05      17.0    0.2  1.538462   \n",
       "4         NaN       50  0.5    2.00   0.10      16.8    0.2  1.900452   \n",
       "\n",
       "      +/-.3      T / %  \n",
       "0  0.019976  97.209302  \n",
       "1  0.021459  97.209302  \n",
       "2  0.023539  91.666667  \n",
       "3  0.026409  92.750000  \n",
       "4  0.029547  94.761905  "
      ]
     },
     "execution_count": 4,
     "metadata": {},
     "output_type": "execute_result"
    }
   ],
   "source": [
    "poluvalni3 = pd.read_excel(r'3. ISPRAVLJAČKI SKLOPOVI.xlsx', sheet_name='3_poluvalni')\n",
    "poluvalni3"
   ]
  },
  {
   "cell_type": "code",
   "execution_count": 5,
   "metadata": {
    "scrolled": false
   },
   "outputs": [
    {
     "data": {
      "image/png": "[encoded data removed]",
      "text/plain": [
       "<Figure size 720x360 with 1 Axes>"
      ]
     },
     "metadata": {
      "needs_background": "light"
     },
     "output_type": "display_data"
    }
   ],
   "source": [
    "x = list(poluvalni3['Ii / mA'])\n",
    "y = list(poluvalni3['Uw / V'])\n",
    "pogreske1 = list(poluvalni3['+/-'])\n",
    "pogreske2 = list(poluvalni3['+/-.1'])\n",
    "y2 = list(poluvalni3['Uwt / V'])\n",
    "pogreske3 = list(poluvalni3['+/-.3'])\n",
    "\n",
    "fig2, ex = plt.subplots(figsize=(10,5))\n",
    "ex.set_title('Ovisnost valovitosti napona $U_{w}$ o izlaznoj struji $I_{i}$', fontsize = 18)\n",
    "ex.set_xlabel('$ I_{i} \\mathrm{/ mA} $', fontsize = 16)\n",
    "ex.set_ylabel('$ U_{W} \\mathrm{/ V} $', fontsize = 16)\n",
    "ex.errorbar(x,y, xerr=pogreske1, yerr = pogreske2, fmt='o', label = '$U_{w}$ iz mjerenja')\n",
    "ex.errorbar(x,y2, fmt='o',xerr=pogreske1, yerr = pogreske3, label = '$U_{w}$ dobiven prema relaciji $U_{w} = I_{i} / C$')\n",
    "ex.legend()\n",
    "ex.xaxis.set_minor_locator(MultipleLocator(1))\n",
    "ex.yaxis.set_minor_locator(MultipleLocator(0.05))\n",
    "ex.grid()"
   ]
  },
  {
   "cell_type": "code",
   "execution_count": 6,
   "metadata": {
    "scrolled": false
   },
   "outputs": [
    {
     "data": {
      "text/html": [
       "<div>\n",
       "<style scoped>\n",
       "    .dataframe tbody tr th:only-of-type {\n",
       "        vertical-align: middle;\n",
       "    }\n",
       "\n",
       "    .dataframe tbody tr th {\n",
       "        vertical-align: top;\n",
       "    }\n",
       "\n",
       "    .dataframe thead th {\n",
       "        text-align: right;\n",
       "    }\n",
       "</style>\n",
       "<table border=\"1\" class=\"dataframe\">\n",
       "  <thead>\n",
       "    <tr style=\"text-align: right;\">\n",
       "      <th></th>\n",
       "      <th>Unnamed: 0</th>\n",
       "      <th>C/μF</th>\n",
       "      <th>Uw /V</th>\n",
       "      <th>+/-</th>\n",
       "      <th>t / ms</th>\n",
       "      <th>+/-.1</th>\n",
       "      <th>Uwt /V</th>\n",
       "      <th>+/-.2</th>\n",
       "      <th>T / %</th>\n",
       "    </tr>\n",
       "  </thead>\n",
       "  <tbody>\n",
       "    <tr>\n",
       "      <th>0</th>\n",
       "      <td>NaN</td>\n",
       "      <td>110</td>\n",
       "      <td>1.60</td>\n",
       "      <td>0.05</td>\n",
       "      <td>17.4</td>\n",
       "      <td>0.2</td>\n",
       "      <td>1.581818</td>\n",
       "      <td>0.018182</td>\n",
       "      <td>98.850575</td>\n",
       "    </tr>\n",
       "    <tr>\n",
       "      <th>1</th>\n",
       "      <td>Ii = 10 mA</td>\n",
       "      <td>204</td>\n",
       "      <td>0.90</td>\n",
       "      <td>0.05</td>\n",
       "      <td>17.2</td>\n",
       "      <td>0.2</td>\n",
       "      <td>0.843137</td>\n",
       "      <td>0.009804</td>\n",
       "      <td>93.255814</td>\n",
       "    </tr>\n",
       "    <tr>\n",
       "      <th>2</th>\n",
       "      <td>NaN</td>\n",
       "      <td>442</td>\n",
       "      <td>0.42</td>\n",
       "      <td>0.02</td>\n",
       "      <td>17.2</td>\n",
       "      <td>0.2</td>\n",
       "      <td>0.389140</td>\n",
       "      <td>0.004525</td>\n",
       "      <td>92.069767</td>\n",
       "    </tr>\n",
       "    <tr>\n",
       "      <th>3</th>\n",
       "      <td>NaN</td>\n",
       "      <td>1088</td>\n",
       "      <td>0.17</td>\n",
       "      <td>0.02</td>\n",
       "      <td>17.6</td>\n",
       "      <td>0.2</td>\n",
       "      <td>0.161765</td>\n",
       "      <td>0.001838</td>\n",
       "      <td>94.909091</td>\n",
       "    </tr>\n",
       "  </tbody>\n",
       "</table>\n",
       "</div>"
      ],
      "text/plain": [
       "   Unnamed: 0  C/μF  Uw /V   +/-  t / ms  +/-.1    Uwt /V     +/-.2      T / %\n",
       "0         NaN   110   1.60  0.05    17.4    0.2  1.581818  0.018182  98.850575\n",
       "1  Ii = 10 mA   204   0.90  0.05    17.2    0.2  0.843137  0.009804  93.255814\n",
       "2         NaN   442   0.42  0.02    17.2    0.2  0.389140  0.004525  92.069767\n",
       "3         NaN  1088   0.17  0.02    17.6    0.2  0.161765  0.001838  94.909091"
      ]
     },
     "execution_count": 6,
     "metadata": {},
     "output_type": "execute_result"
    }
   ],
   "source": [
    "poluvalni4 = pd.read_excel(r'3. ISPRAVLJAČKI SKLOPOVI.xlsx', sheet_name='4_poluvalni')\n",
    "poluvalni4"
   ]
  },
  {
   "cell_type": "code",
   "execution_count": 7,
   "metadata": {
    "scrolled": false
   },
   "outputs": [
    {
     "data": {
      "image/png": "[encoded data removed]",
      "text/plain": [
       "<Figure size 720x360 with 1 Axes>"
      ]
     },
     "metadata": {
      "needs_background": "light"
     },
     "output_type": "display_data"
    }
   ],
   "source": [
    "x = list(poluvalni4['C/μF'])\n",
    "y = list(poluvalni4['Uw /V'])\n",
    "pogreske2 = list(poluvalni4['+/-'])\n",
    "y2 = list(poluvalni4['Uwt /V'])\n",
    "pogreske3 = list(poluvalni4['+/-.2'])\n",
    "\n",
    "fig3, ix = plt.subplots(figsize=(10,5))\n",
    "ix.set_title('Ovisnost valovitosti napona $U_{w}$ o kapacitetu $C$', fontsize = 18)\n",
    "ix.set_xlabel('$ C\\mathrm{/ \\mu F} $', fontsize = 16)\n",
    "ix.set_ylabel('$ U_{W} \\mathrm{/ V} $', fontsize = 16)\n",
    "ix.errorbar(x,y, yerr = pogreske2, fmt='o', label = '$U_{w}$ iz mjerenja')\n",
    "ix.errorbar(x,y2, yerr = pogreske3, fmt='o', label = '$U_{w}$ dobiven prema relaciji $U_{w} = I_{i} / C$')\n",
    "ix.legend()\n",
    "ix.xaxis.set_minor_locator(MultipleLocator(20))\n",
    "ix.yaxis.set_minor_locator(MultipleLocator(0.04))\n",
    "ix.grid()"
   ]
  },
  {
   "cell_type": "code",
   "execution_count": 8,
   "metadata": {
    "scrolled": true
   },
   "outputs": [
    {
     "data": {
      "text/html": [
       "<div>\n",
       "<style scoped>\n",
       "    .dataframe tbody tr th:only-of-type {\n",
       "        vertical-align: middle;\n",
       "    }\n",
       "\n",
       "    .dataframe tbody tr th {\n",
       "        vertical-align: top;\n",
       "    }\n",
       "\n",
       "    .dataframe thead th {\n",
       "        text-align: right;\n",
       "    }\n",
       "</style>\n",
       "<table border=\"1\" class=\"dataframe\">\n",
       "  <thead>\n",
       "    <tr style=\"text-align: right;\">\n",
       "      <th></th>\n",
       "      <th>Unnamed: 0</th>\n",
       "      <th>Ueff / V</th>\n",
       "      <th>+/-</th>\n",
       "      <th>Ui / V</th>\n",
       "      <th>+/-.1</th>\n",
       "      <th>Ueff K2 / V</th>\n",
       "      <th>+/-.2</th>\n",
       "      <th>T / %</th>\n",
       "    </tr>\n",
       "  </thead>\n",
       "  <tbody>\n",
       "    <tr>\n",
       "      <th>0</th>\n",
       "      <td>NaN</td>\n",
       "      <td>2</td>\n",
       "      <td>0.1</td>\n",
       "      <td>2.2</td>\n",
       "      <td>0.1</td>\n",
       "      <td>2.828427</td>\n",
       "      <td>0.1</td>\n",
       "      <td>77.781746</td>\n",
       "    </tr>\n",
       "    <tr>\n",
       "      <th>1</th>\n",
       "      <td>I = 0 mA</td>\n",
       "      <td>4</td>\n",
       "      <td>0.1</td>\n",
       "      <td>5.1</td>\n",
       "      <td>0.1</td>\n",
       "      <td>5.656854</td>\n",
       "      <td>0.1</td>\n",
       "      <td>90.156115</td>\n",
       "    </tr>\n",
       "    <tr>\n",
       "      <th>2</th>\n",
       "      <td>C = 442 μF</td>\n",
       "      <td>6</td>\n",
       "      <td>0.1</td>\n",
       "      <td>7.8</td>\n",
       "      <td>0.1</td>\n",
       "      <td>8.485281</td>\n",
       "      <td>0.1</td>\n",
       "      <td>91.923882</td>\n",
       "    </tr>\n",
       "    <tr>\n",
       "      <th>3</th>\n",
       "      <td>NaN</td>\n",
       "      <td>8</td>\n",
       "      <td>0.1</td>\n",
       "      <td>11.0</td>\n",
       "      <td>0.1</td>\n",
       "      <td>11.313708</td>\n",
       "      <td>0.1</td>\n",
       "      <td>97.227182</td>\n",
       "    </tr>\n",
       "    <tr>\n",
       "      <th>4</th>\n",
       "      <td>NaN</td>\n",
       "      <td>10</td>\n",
       "      <td>0.1</td>\n",
       "      <td>14.0</td>\n",
       "      <td>0.1</td>\n",
       "      <td>14.142136</td>\n",
       "      <td>0.1</td>\n",
       "      <td>98.994949</td>\n",
       "    </tr>\n",
       "  </tbody>\n",
       "</table>\n",
       "</div>"
      ],
      "text/plain": [
       "   Unnamed: 0  Ueff / V  +/-  Ui / V  +/-.1  Ueff K2 / V  +/-.2      T / %\n",
       "0         NaN         2  0.1     2.2    0.1     2.828427    0.1  77.781746\n",
       "1    I = 0 mA         4  0.1     5.1    0.1     5.656854    0.1  90.156115\n",
       "2  C = 442 μF         6  0.1     7.8    0.1     8.485281    0.1  91.923882\n",
       "3         NaN         8  0.1    11.0    0.1    11.313708    0.1  97.227182\n",
       "4         NaN        10  0.1    14.0    0.1    14.142136    0.1  98.994949"
      ]
     },
     "execution_count": 8,
     "metadata": {},
     "output_type": "execute_result"
    }
   ],
   "source": [
    "poluvalni5 = pd.read_excel(r'3. ISPRAVLJAČKI SKLOPOVI.xlsx', sheet_name='5_poluvalni')\n",
    "poluvalni5"
   ]
  },
  {
   "cell_type": "code",
   "execution_count": 9,
   "metadata": {},
   "outputs": [],
   "source": [
    "x = list(poluvalni5['Ueff / V'])\n",
    "y = list(poluvalni5['Ui / V'])\n",
    "pogreske1 = list(poluvalni5['+/-'])\n",
    "pogreske2 = list(poluvalni5['+/-.1'])\n",
    "y2 = list(poluvalni5['Ueff K2 / V'])\n",
    "pogreske3 = list(poluvalni5['+/-.2'])"
   ]
  },
  {
   "cell_type": "code",
   "execution_count": 14,
   "metadata": {},
   "outputs": [
    {
     "name": "stdout",
     "output_type": "stream",
     "text": [
      "[ 1.475 -0.83 ]\n",
      "[ 1.41421356e+00 -2.18013780e-12]\n"
     ]
    }
   ],
   "source": [
    "def funkcija(x, a, b):\n",
    "    return a*x + b\n",
    "\n",
    "ts = np.linspace(2, 10, 100)\n",
    "pars1, cov1 = curve_fit(funkcija, x, y)\n",
    "pars2, cov2 = curve_fit(funkcija, x, y2)\n",
    "print(pars1)\n",
    "print(pars2)"
   ]
  },
  {
   "cell_type": "code",
   "execution_count": 15,
   "metadata": {
    "scrolled": false
   },
   "outputs": [
    {
     "data": {
      "image/png": "[encoded data removed]",
      "text/plain": [
       "<Figure size 720x360 with 1 Axes>"
      ]
     },
     "metadata": {
      "needs_background": "light"
     },
     "output_type": "display_data"
    }
   ],
   "source": [
    "fig4, ux = plt.subplots(figsize=(10,5))\n",
    "\n",
    "ux.set_title('Ovisnost izlaznog napona $U_{i}$ o ulaznom efektivnom naponu $U_{eff}$ ', fontsize = 18)\n",
    "ux.set_xlabel('$ U_{eff}\\ V$', fontsize = 16)\n",
    "ux.set_ylabel('$ U \\mathrm{/ V} $', fontsize = 16)\n",
    "\n",
    "ux.errorbar(x,y, xerr = pogreske1, yerr = pogreske2, fmt='o', label = '$U_{i}$ iz mjerenja')\n",
    "ux.errorbar(x,y2, xerr = pogreske1, yerr = pogreske3, fmt='o', label = '$U_{eff} \\sqrt{2} \\mathrm{/ V}$')\n",
    "ux.plot(ts, funkcija(ts, *pars1), label='k = 1.475', color='green')\n",
    "ux.plot(ts, funkcija(ts, *pars2), label='k = 1.41421356', color='purple')\n",
    "\n",
    "ux.legend()\n",
    "ux.xaxis.set_minor_locator(MultipleLocator(0.4))\n",
    "ux.yaxis.set_minor_locator(MultipleLocator(0.4))\n",
    "ux.grid()"
   ]
  },
  {
   "cell_type": "code",
   "execution_count": 16,
   "metadata": {},
   "outputs": [],
   "source": [
    "fig1.savefig('prvi.jpg')\n",
    "fig2.savefig('drugi.jpg')\n",
    "fig3.savefig('treci.jpg')\n",
    "fig4.savefig('cetvrti.jpg')"
   ]
  }
 ],
 "metadata": {
  "kernelspec": {
   "display_name": "Python 3",
   "language": "python",
   "name": "python3"
  },
  "language_info": {
   "codemirror_mode": {
    "name": "ipython",
    "version": 3
   },
   "file_extension": ".py",
   "mimetype": "text/x-python",
   "name": "python",
   "nbconvert_exporter": "python",
   "pygments_lexer": "ipython3",
   "version": "3.8.5"
  }
 },
 "nbformat": 4,
 "nbformat_minor": 4
}
